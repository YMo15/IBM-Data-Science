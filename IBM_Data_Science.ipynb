{
  "nbformat": 4,
  "nbformat_minor": 0,
  "metadata": {
    "colab": {
      "provenance": []
    },
    "kernelspec": {
      "name": "python3",
      "display_name": "Python 3"
    },
    "language_info": {
      "name": "python"
    }
  },
  "cells": [
    {
      "cell_type": "markdown",
      "source": [
        "# Data Science Tools and Ecosystem\n"
      ],
      "metadata": {
        "id": "dcTEHVHC4DA3"
      }
    },
    {
      "cell_type": "markdown",
      "source": [
        "In this notebook, Data Science Tools and Ecosystem are summarized."
      ],
      "metadata": {
        "id": "iN2wtkDu4p4C"
      }
    },
    {
      "cell_type": "markdown",
      "source": [
        "**Objectives:**\n",
        "\n",
        "\n",
        "*   List popular languages for Data Science\n",
        "*   List popular libraries for Data Science\n",
        "*   List popular tools for Dara Science\n",
        "\n"
      ],
      "metadata": {
        "id": "MjYssriq-582"
      }
    },
    {
      "cell_type": "markdown",
      "source": [
        "Some of the popular languages that Data Scientists use are:"
      ],
      "metadata": {
        "id": "010EeK_C5UAp"
      }
    },
    {
      "cell_type": "markdown",
      "source": [
        "1. Python\n",
        "2. R\n",
        "3. C++"
      ],
      "metadata": {
        "id": "424L6B6v5ims"
      }
    },
    {
      "cell_type": "markdown",
      "source": [
        "Some of the commonly used libraries used by Data Scientists include:"
      ],
      "metadata": {
        "id": "lZK0UZHm55zB"
      }
    },
    {
      "cell_type": "markdown",
      "source": [
        "1. pandas\n",
        "2. numpy\n",
        "3. Matplotlib"
      ],
      "metadata": {
        "id": "zEQI_m0257mI"
      }
    },
    {
      "cell_type": "markdown",
      "source": [
        "Data Science Tools\n",
        "1. Jupyter Notebook\n",
        "2. RStudio\n",
        "3. VS Code"
      ],
      "metadata": {
        "id": "gWsyqHXh6idJ"
      }
    },
    {
      "cell_type": "markdown",
      "source": [
        "#Below are a few examples of evaluating arithmetic expressions in Python"
      ],
      "metadata": {
        "id": "eA8mtjfm60S0"
      }
    },
    {
      "cell_type": "code",
      "source": [
        "(3*4)+5\n",
        "#This a simple arithmetic expression to mutiply then add integers"
      ],
      "metadata": {
        "colab": {
          "base_uri": "https://localhost:8080/"
        },
        "id": "nvwwMDQA6qW7",
        "outputId": "7503af25-8f04-4995-bceb-53bca8b9d362"
      },
      "execution_count": 2,
      "outputs": [
        {
          "output_type": "execute_result",
          "data": {
            "text/plain": [
              "17"
            ]
          },
          "metadata": {},
          "execution_count": 2
        }
      ]
    },
    {
      "cell_type": "code",
      "source": [
        "200/60\n",
        "#This will convert 200 minutes to hours by diving by 60"
      ],
      "metadata": {
        "colab": {
          "base_uri": "https://localhost:8080/"
        },
        "id": "RZvg8Vno8g9O",
        "outputId": "a9043831-baac-4d43-f50f-a0931ec98cd1"
      },
      "execution_count": 3,
      "outputs": [
        {
          "output_type": "execute_result",
          "data": {
            "text/plain": [
              "3.3333333333333335"
            ]
          },
          "metadata": {},
          "execution_count": 3
        }
      ]
    },
    {
      "cell_type": "markdown",
      "source": [
        "## Author\n",
        "Yuchen Mo"
      ],
      "metadata": {
        "id": "J9ENC3aI_my1"
      }
    },
    {
      "cell_type": "code",
      "source": [],
      "metadata": {
        "id": "KWlGir68_0Kb"
      },
      "execution_count": null,
      "outputs": []
    }
  ]
}